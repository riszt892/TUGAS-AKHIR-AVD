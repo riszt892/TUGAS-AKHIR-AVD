{
 "cells": [
  {
   "cell_type": "code",
   "execution_count": 1,
   "metadata": {
    "collapsed": true,
    "pycharm": {
     "name": "#%%\n"
    }
   },
   "outputs": [],
   "source": [
    "import matplotlib.pyplot as plt\n",
    "import pandas as pd\n",
    "import seaborn as sns\n",
    "\n",
    "bentuk2019 = pd.read_csv('berdasarkan bentuk kekerasan 2019.csv', encoding='utf-8', delimiter=\";\")\n",
    "bentuk2020  = pd.read_csv('berdasarkan bentuk kekerasan 2020.csv', encoding='utf-8', delimiter=\";\")\n",
    "pelaku2019 = pd.read_csv('berdasarkan pelaku kekerasan 2019.csv', encoding='utf-8', delimiter=\";\")\n",
    "pelaku2020 = pd.read_csv('berdasarkan pelaku kekerasan 2020.csv', encoding='utf-8', delimiter=\";\")"
   ]
  },
  {
   "cell_type": "code",
   "execution_count": 2,
   "metadata": {
    "pycharm": {
     "name": "#%%\n"
    }
   },
   "outputs": [
    {
     "data": {
      "text/html": [
       "<div>\n",
       "<style scoped>\n",
       "    .dataframe tbody tr th:only-of-type {\n",
       "        vertical-align: middle;\n",
       "    }\n",
       "\n",
       "    .dataframe tbody tr th {\n",
       "        vertical-align: top;\n",
       "    }\n",
       "\n",
       "    .dataframe thead th {\n",
       "        text-align: right;\n",
       "    }\n",
       "</style>\n",
       "<table border=\"1\" class=\"dataframe\">\n",
       "  <thead>\n",
       "    <tr style=\"text-align: right;\">\n",
       "      <th></th>\n",
       "      <th>tahun</th>\n",
       "      <th>bulan</th>\n",
       "      <th>bentuk_kekerasan</th>\n",
       "      <th>jumlah_kekerasan</th>\n",
       "    </tr>\n",
       "  </thead>\n",
       "  <tbody>\n",
       "    <tr>\n",
       "      <th>0</th>\n",
       "      <td>2019</td>\n",
       "      <td>1</td>\n",
       "      <td>Kekerasan Fisik</td>\n",
       "      <td>17</td>\n",
       "    </tr>\n",
       "    <tr>\n",
       "      <th>1</th>\n",
       "      <td>2019</td>\n",
       "      <td>1</td>\n",
       "      <td>Kekerasan Psikis</td>\n",
       "      <td>19</td>\n",
       "    </tr>\n",
       "    <tr>\n",
       "      <th>2</th>\n",
       "      <td>2019</td>\n",
       "      <td>1</td>\n",
       "      <td>Kekerasan Seksual</td>\n",
       "      <td>2</td>\n",
       "    </tr>\n",
       "    <tr>\n",
       "      <th>3</th>\n",
       "      <td>2019</td>\n",
       "      <td>1</td>\n",
       "      <td>Penelantaran Rumah Tangga</td>\n",
       "      <td>2</td>\n",
       "    </tr>\n",
       "    <tr>\n",
       "      <th>4</th>\n",
       "      <td>2019</td>\n",
       "      <td>2</td>\n",
       "      <td>Kekerasan Fisik</td>\n",
       "      <td>39</td>\n",
       "    </tr>\n",
       "    <tr>\n",
       "      <th>5</th>\n",
       "      <td>2019</td>\n",
       "      <td>2</td>\n",
       "      <td>Kekerasan Psikis</td>\n",
       "      <td>44</td>\n",
       "    </tr>\n",
       "    <tr>\n",
       "      <th>6</th>\n",
       "      <td>2019</td>\n",
       "      <td>2</td>\n",
       "      <td>Kekerasan Seksual</td>\n",
       "      <td>18</td>\n",
       "    </tr>\n",
       "    <tr>\n",
       "      <th>7</th>\n",
       "      <td>2019</td>\n",
       "      <td>2</td>\n",
       "      <td>Penelantaran Rumah Tangga</td>\n",
       "      <td>6</td>\n",
       "    </tr>\n",
       "    <tr>\n",
       "      <th>8</th>\n",
       "      <td>2019</td>\n",
       "      <td>2</td>\n",
       "      <td>Kasus Lain</td>\n",
       "      <td>2</td>\n",
       "    </tr>\n",
       "    <tr>\n",
       "      <th>9</th>\n",
       "      <td>2019</td>\n",
       "      <td>3</td>\n",
       "      <td>Kekerasan Fisik</td>\n",
       "      <td>41</td>\n",
       "    </tr>\n",
       "    <tr>\n",
       "      <th>10</th>\n",
       "      <td>2019</td>\n",
       "      <td>3</td>\n",
       "      <td>Kekerasan Psikis</td>\n",
       "      <td>47</td>\n",
       "    </tr>\n",
       "    <tr>\n",
       "      <th>11</th>\n",
       "      <td>2019</td>\n",
       "      <td>3</td>\n",
       "      <td>Kekerasan Seksual</td>\n",
       "      <td>2</td>\n",
       "    </tr>\n",
       "    <tr>\n",
       "      <th>12</th>\n",
       "      <td>2019</td>\n",
       "      <td>3</td>\n",
       "      <td>Penelantaran Rumah Tangga</td>\n",
       "      <td>9</td>\n",
       "    </tr>\n",
       "    <tr>\n",
       "      <th>13</th>\n",
       "      <td>2019</td>\n",
       "      <td>4</td>\n",
       "      <td>Kekerasan Fisik</td>\n",
       "      <td>23</td>\n",
       "    </tr>\n",
       "    <tr>\n",
       "      <th>14</th>\n",
       "      <td>2019</td>\n",
       "      <td>4</td>\n",
       "      <td>Kekerasan Psikis</td>\n",
       "      <td>41</td>\n",
       "    </tr>\n",
       "    <tr>\n",
       "      <th>15</th>\n",
       "      <td>2019</td>\n",
       "      <td>4</td>\n",
       "      <td>Kekerasan Seksual</td>\n",
       "      <td>3</td>\n",
       "    </tr>\n",
       "    <tr>\n",
       "      <th>16</th>\n",
       "      <td>2019</td>\n",
       "      <td>4</td>\n",
       "      <td>Penelantaran Rumah Tangga</td>\n",
       "      <td>8</td>\n",
       "    </tr>\n",
       "    <tr>\n",
       "      <th>17</th>\n",
       "      <td>2019</td>\n",
       "      <td>5</td>\n",
       "      <td>Kekerasan Fisik</td>\n",
       "      <td>33</td>\n",
       "    </tr>\n",
       "    <tr>\n",
       "      <th>18</th>\n",
       "      <td>2019</td>\n",
       "      <td>5</td>\n",
       "      <td>Kekerasan Psikis</td>\n",
       "      <td>52</td>\n",
       "    </tr>\n",
       "    <tr>\n",
       "      <th>19</th>\n",
       "      <td>2019</td>\n",
       "      <td>5</td>\n",
       "      <td>Kekerasan Seksual</td>\n",
       "      <td>3</td>\n",
       "    </tr>\n",
       "    <tr>\n",
       "      <th>20</th>\n",
       "      <td>2019</td>\n",
       "      <td>5</td>\n",
       "      <td>Penelantaran Rumah Tangga</td>\n",
       "      <td>6</td>\n",
       "    </tr>\n",
       "    <tr>\n",
       "      <th>21</th>\n",
       "      <td>2019</td>\n",
       "      <td>6</td>\n",
       "      <td>Kekerasan Fisik</td>\n",
       "      <td>13</td>\n",
       "    </tr>\n",
       "    <tr>\n",
       "      <th>22</th>\n",
       "      <td>2019</td>\n",
       "      <td>6</td>\n",
       "      <td>Kekerasan Psikis</td>\n",
       "      <td>16</td>\n",
       "    </tr>\n",
       "    <tr>\n",
       "      <th>23</th>\n",
       "      <td>2019</td>\n",
       "      <td>6</td>\n",
       "      <td>Kekerasan Seksual</td>\n",
       "      <td>6</td>\n",
       "    </tr>\n",
       "    <tr>\n",
       "      <th>24</th>\n",
       "      <td>2019</td>\n",
       "      <td>6</td>\n",
       "      <td>Penelantaran Rumah Tangga</td>\n",
       "      <td>5</td>\n",
       "    </tr>\n",
       "    <tr>\n",
       "      <th>25</th>\n",
       "      <td>2019</td>\n",
       "      <td>7</td>\n",
       "      <td>Kekerasan Fisik</td>\n",
       "      <td>51</td>\n",
       "    </tr>\n",
       "    <tr>\n",
       "      <th>26</th>\n",
       "      <td>2019</td>\n",
       "      <td>7</td>\n",
       "      <td>Kekerasan Psikis</td>\n",
       "      <td>64</td>\n",
       "    </tr>\n",
       "    <tr>\n",
       "      <th>27</th>\n",
       "      <td>2019</td>\n",
       "      <td>7</td>\n",
       "      <td>Kekerasan Seksual</td>\n",
       "      <td>18</td>\n",
       "    </tr>\n",
       "    <tr>\n",
       "      <th>28</th>\n",
       "      <td>2019</td>\n",
       "      <td>7</td>\n",
       "      <td>Penelantaran Rumah Tangga</td>\n",
       "      <td>15</td>\n",
       "    </tr>\n",
       "    <tr>\n",
       "      <th>29</th>\n",
       "      <td>2019</td>\n",
       "      <td>8</td>\n",
       "      <td>Kekerasan Fisik</td>\n",
       "      <td>46</td>\n",
       "    </tr>\n",
       "    <tr>\n",
       "      <th>30</th>\n",
       "      <td>2019</td>\n",
       "      <td>8</td>\n",
       "      <td>Kekerasan Psikis</td>\n",
       "      <td>42</td>\n",
       "    </tr>\n",
       "    <tr>\n",
       "      <th>31</th>\n",
       "      <td>2019</td>\n",
       "      <td>8</td>\n",
       "      <td>Kekerasan Seksual</td>\n",
       "      <td>18</td>\n",
       "    </tr>\n",
       "    <tr>\n",
       "      <th>32</th>\n",
       "      <td>2019</td>\n",
       "      <td>8</td>\n",
       "      <td>Penelantaran Rumah Tangga</td>\n",
       "      <td>7</td>\n",
       "    </tr>\n",
       "    <tr>\n",
       "      <th>33</th>\n",
       "      <td>2019</td>\n",
       "      <td>9</td>\n",
       "      <td>Kekerasan Fisik</td>\n",
       "      <td>35</td>\n",
       "    </tr>\n",
       "    <tr>\n",
       "      <th>34</th>\n",
       "      <td>2019</td>\n",
       "      <td>9</td>\n",
       "      <td>Kekerasan Psikis</td>\n",
       "      <td>41</td>\n",
       "    </tr>\n",
       "    <tr>\n",
       "      <th>35</th>\n",
       "      <td>2019</td>\n",
       "      <td>9</td>\n",
       "      <td>Kekerasan Seksual</td>\n",
       "      <td>25</td>\n",
       "    </tr>\n",
       "    <tr>\n",
       "      <th>36</th>\n",
       "      <td>2019</td>\n",
       "      <td>9</td>\n",
       "      <td>Penelantaran Rumah Tangga</td>\n",
       "      <td>11</td>\n",
       "    </tr>\n",
       "    <tr>\n",
       "      <th>37</th>\n",
       "      <td>2019</td>\n",
       "      <td>10</td>\n",
       "      <td>Kekerasan Fisik</td>\n",
       "      <td>72</td>\n",
       "    </tr>\n",
       "    <tr>\n",
       "      <th>38</th>\n",
       "      <td>2019</td>\n",
       "      <td>10</td>\n",
       "      <td>Kekerasan Psikis</td>\n",
       "      <td>83</td>\n",
       "    </tr>\n",
       "    <tr>\n",
       "      <th>39</th>\n",
       "      <td>2019</td>\n",
       "      <td>10</td>\n",
       "      <td>Kekerasan Seksual</td>\n",
       "      <td>40</td>\n",
       "    </tr>\n",
       "    <tr>\n",
       "      <th>40</th>\n",
       "      <td>2019</td>\n",
       "      <td>10</td>\n",
       "      <td>Penelantaran Rumah Tangga</td>\n",
       "      <td>7</td>\n",
       "    </tr>\n",
       "    <tr>\n",
       "      <th>41</th>\n",
       "      <td>2019</td>\n",
       "      <td>11</td>\n",
       "      <td>Kekerasan Fisik</td>\n",
       "      <td>31</td>\n",
       "    </tr>\n",
       "    <tr>\n",
       "      <th>42</th>\n",
       "      <td>2019</td>\n",
       "      <td>11</td>\n",
       "      <td>Kekerasan Psikis</td>\n",
       "      <td>25</td>\n",
       "    </tr>\n",
       "    <tr>\n",
       "      <th>43</th>\n",
       "      <td>2019</td>\n",
       "      <td>11</td>\n",
       "      <td>Kekerasan Seksual</td>\n",
       "      <td>29</td>\n",
       "    </tr>\n",
       "    <tr>\n",
       "      <th>44</th>\n",
       "      <td>2019</td>\n",
       "      <td>11</td>\n",
       "      <td>Penelantaran Rumah Tangga</td>\n",
       "      <td>9</td>\n",
       "    </tr>\n",
       "    <tr>\n",
       "      <th>45</th>\n",
       "      <td>2019</td>\n",
       "      <td>12</td>\n",
       "      <td>Kekerasan Fisik</td>\n",
       "      <td>20</td>\n",
       "    </tr>\n",
       "    <tr>\n",
       "      <th>46</th>\n",
       "      <td>2019</td>\n",
       "      <td>12</td>\n",
       "      <td>Kekerasan Psikis</td>\n",
       "      <td>23</td>\n",
       "    </tr>\n",
       "    <tr>\n",
       "      <th>47</th>\n",
       "      <td>2019</td>\n",
       "      <td>12</td>\n",
       "      <td>Kekerasan Seksual</td>\n",
       "      <td>23</td>\n",
       "    </tr>\n",
       "    <tr>\n",
       "      <th>48</th>\n",
       "      <td>2019</td>\n",
       "      <td>12</td>\n",
       "      <td>Penelantaran Rumah Tangga</td>\n",
       "      <td>4</td>\n",
       "    </tr>\n",
       "  </tbody>\n",
       "</table>\n",
       "</div>"
      ],
      "text/plain": [
       "    tahun  bulan           bentuk_kekerasan  jumlah_kekerasan\n",
       "0    2019      1            Kekerasan Fisik                17\n",
       "1    2019      1           Kekerasan Psikis                19\n",
       "2    2019      1          Kekerasan Seksual                 2\n",
       "3    2019      1  Penelantaran Rumah Tangga                 2\n",
       "4    2019      2            Kekerasan Fisik                39\n",
       "5    2019      2           Kekerasan Psikis                44\n",
       "6    2019      2          Kekerasan Seksual                18\n",
       "7    2019      2  Penelantaran Rumah Tangga                 6\n",
       "8    2019      2                 Kasus Lain                 2\n",
       "9    2019      3            Kekerasan Fisik                41\n",
       "10   2019      3           Kekerasan Psikis                47\n",
       "11   2019      3          Kekerasan Seksual                 2\n",
       "12   2019      3  Penelantaran Rumah Tangga                 9\n",
       "13   2019      4            Kekerasan Fisik                23\n",
       "14   2019      4           Kekerasan Psikis                41\n",
       "15   2019      4          Kekerasan Seksual                 3\n",
       "16   2019      4  Penelantaran Rumah Tangga                 8\n",
       "17   2019      5            Kekerasan Fisik                33\n",
       "18   2019      5           Kekerasan Psikis                52\n",
       "19   2019      5          Kekerasan Seksual                 3\n",
       "20   2019      5  Penelantaran Rumah Tangga                 6\n",
       "21   2019      6            Kekerasan Fisik                13\n",
       "22   2019      6           Kekerasan Psikis                16\n",
       "23   2019      6          Kekerasan Seksual                 6\n",
       "24   2019      6  Penelantaran Rumah Tangga                 5\n",
       "25   2019      7            Kekerasan Fisik                51\n",
       "26   2019      7           Kekerasan Psikis                64\n",
       "27   2019      7          Kekerasan Seksual                18\n",
       "28   2019      7  Penelantaran Rumah Tangga                15\n",
       "29   2019      8            Kekerasan Fisik                46\n",
       "30   2019      8           Kekerasan Psikis                42\n",
       "31   2019      8          Kekerasan Seksual                18\n",
       "32   2019      8  Penelantaran Rumah Tangga                 7\n",
       "33   2019      9            Kekerasan Fisik                35\n",
       "34   2019      9           Kekerasan Psikis                41\n",
       "35   2019      9          Kekerasan Seksual                25\n",
       "36   2019      9  Penelantaran Rumah Tangga                11\n",
       "37   2019     10            Kekerasan Fisik                72\n",
       "38   2019     10           Kekerasan Psikis                83\n",
       "39   2019     10          Kekerasan Seksual                40\n",
       "40   2019     10  Penelantaran Rumah Tangga                 7\n",
       "41   2019     11            Kekerasan Fisik                31\n",
       "42   2019     11           Kekerasan Psikis                25\n",
       "43   2019     11          Kekerasan Seksual                29\n",
       "44   2019     11  Penelantaran Rumah Tangga                 9\n",
       "45   2019     12            Kekerasan Fisik                20\n",
       "46   2019     12           Kekerasan Psikis                23\n",
       "47   2019     12          Kekerasan Seksual                23\n",
       "48   2019     12  Penelantaran Rumah Tangga                 4"
      ]
     },
     "execution_count": 2,
     "metadata": {},
     "output_type": "execute_result"
    }
   ],
   "source": [
    "bentuk2019"
   ]
  },
  {
   "cell_type": "code",
   "execution_count": 3,
   "metadata": {
    "pycharm": {
     "name": "#%%\n"
    }
   },
   "outputs": [
    {
     "data": {
      "text/html": [
       "<div>\n",
       "<style scoped>\n",
       "    .dataframe tbody tr th:only-of-type {\n",
       "        vertical-align: middle;\n",
       "    }\n",
       "\n",
       "    .dataframe tbody tr th {\n",
       "        vertical-align: top;\n",
       "    }\n",
       "\n",
       "    .dataframe thead th {\n",
       "        text-align: right;\n",
       "    }\n",
       "</style>\n",
       "<table border=\"1\" class=\"dataframe\">\n",
       "  <thead>\n",
       "    <tr style=\"text-align: right;\">\n",
       "      <th></th>\n",
       "      <th>tahun</th>\n",
       "      <th>bulan</th>\n",
       "      <th>bentuk_kekerasan</th>\n",
       "      <th>jumlah_kekerasan</th>\n",
       "    </tr>\n",
       "  </thead>\n",
       "  <tbody>\n",
       "    <tr>\n",
       "      <th>0</th>\n",
       "      <td>2020</td>\n",
       "      <td>1</td>\n",
       "      <td>Kekerasan Fisik</td>\n",
       "      <td>36</td>\n",
       "    </tr>\n",
       "    <tr>\n",
       "      <th>1</th>\n",
       "      <td>2020</td>\n",
       "      <td>1</td>\n",
       "      <td>Kekerasan Psikis</td>\n",
       "      <td>42</td>\n",
       "    </tr>\n",
       "    <tr>\n",
       "      <th>2</th>\n",
       "      <td>2020</td>\n",
       "      <td>1</td>\n",
       "      <td>Kekerasan Seksual</td>\n",
       "      <td>40</td>\n",
       "    </tr>\n",
       "    <tr>\n",
       "      <th>3</th>\n",
       "      <td>2020</td>\n",
       "      <td>1</td>\n",
       "      <td>Penelantaran Rumah Tangga</td>\n",
       "      <td>3</td>\n",
       "    </tr>\n",
       "    <tr>\n",
       "      <th>4</th>\n",
       "      <td>2020</td>\n",
       "      <td>2</td>\n",
       "      <td>Kekerasan Fisik</td>\n",
       "      <td>15</td>\n",
       "    </tr>\n",
       "    <tr>\n",
       "      <th>5</th>\n",
       "      <td>2020</td>\n",
       "      <td>2</td>\n",
       "      <td>Kekerasan Psikis</td>\n",
       "      <td>26</td>\n",
       "    </tr>\n",
       "    <tr>\n",
       "      <th>6</th>\n",
       "      <td>2020</td>\n",
       "      <td>2</td>\n",
       "      <td>Kekerasan Seksual</td>\n",
       "      <td>1</td>\n",
       "    </tr>\n",
       "    <tr>\n",
       "      <th>7</th>\n",
       "      <td>2020</td>\n",
       "      <td>2</td>\n",
       "      <td>Penelantaran Rumah Tangga</td>\n",
       "      <td>8</td>\n",
       "    </tr>\n",
       "    <tr>\n",
       "      <th>8</th>\n",
       "      <td>2020</td>\n",
       "      <td>3</td>\n",
       "      <td>Kekerasan Fisik</td>\n",
       "      <td>23</td>\n",
       "    </tr>\n",
       "    <tr>\n",
       "      <th>9</th>\n",
       "      <td>2020</td>\n",
       "      <td>3</td>\n",
       "      <td>Kekerasan Psikis</td>\n",
       "      <td>20</td>\n",
       "    </tr>\n",
       "    <tr>\n",
       "      <th>10</th>\n",
       "      <td>2020</td>\n",
       "      <td>3</td>\n",
       "      <td>Kekerasan Seksual</td>\n",
       "      <td>21</td>\n",
       "    </tr>\n",
       "    <tr>\n",
       "      <th>11</th>\n",
       "      <td>2020</td>\n",
       "      <td>3</td>\n",
       "      <td>Penelantaran Rumah Tangga</td>\n",
       "      <td>3</td>\n",
       "    </tr>\n",
       "    <tr>\n",
       "      <th>12</th>\n",
       "      <td>2020</td>\n",
       "      <td>4</td>\n",
       "      <td>Kekerasan Fisik</td>\n",
       "      <td>12</td>\n",
       "    </tr>\n",
       "    <tr>\n",
       "      <th>13</th>\n",
       "      <td>2020</td>\n",
       "      <td>4</td>\n",
       "      <td>Kekerasan Psikis</td>\n",
       "      <td>26</td>\n",
       "    </tr>\n",
       "    <tr>\n",
       "      <th>14</th>\n",
       "      <td>2020</td>\n",
       "      <td>4</td>\n",
       "      <td>Kekerasan Seksual</td>\n",
       "      <td>11</td>\n",
       "    </tr>\n",
       "    <tr>\n",
       "      <th>15</th>\n",
       "      <td>2020</td>\n",
       "      <td>4</td>\n",
       "      <td>Penelantaran Rumah Tangga</td>\n",
       "      <td>1</td>\n",
       "    </tr>\n",
       "    <tr>\n",
       "      <th>16</th>\n",
       "      <td>2020</td>\n",
       "      <td>5</td>\n",
       "      <td>Kekerasan Fisik</td>\n",
       "      <td>21</td>\n",
       "    </tr>\n",
       "    <tr>\n",
       "      <th>17</th>\n",
       "      <td>2020</td>\n",
       "      <td>5</td>\n",
       "      <td>Kekerasan Psikis</td>\n",
       "      <td>18</td>\n",
       "    </tr>\n",
       "    <tr>\n",
       "      <th>18</th>\n",
       "      <td>2020</td>\n",
       "      <td>5</td>\n",
       "      <td>Kekerasan Seksual</td>\n",
       "      <td>8</td>\n",
       "    </tr>\n",
       "    <tr>\n",
       "      <th>19</th>\n",
       "      <td>2020</td>\n",
       "      <td>5</td>\n",
       "      <td>Penelantaran Rumah Tangga</td>\n",
       "      <td>2</td>\n",
       "    </tr>\n",
       "    <tr>\n",
       "      <th>20</th>\n",
       "      <td>2020</td>\n",
       "      <td>6</td>\n",
       "      <td>Kekerasan Fisik</td>\n",
       "      <td>32</td>\n",
       "    </tr>\n",
       "    <tr>\n",
       "      <th>21</th>\n",
       "      <td>2020</td>\n",
       "      <td>6</td>\n",
       "      <td>Kekerasan Psikis</td>\n",
       "      <td>36</td>\n",
       "    </tr>\n",
       "    <tr>\n",
       "      <th>22</th>\n",
       "      <td>2020</td>\n",
       "      <td>6</td>\n",
       "      <td>Kekerasan Seksual</td>\n",
       "      <td>8</td>\n",
       "    </tr>\n",
       "    <tr>\n",
       "      <th>23</th>\n",
       "      <td>2020</td>\n",
       "      <td>6</td>\n",
       "      <td>Penelantaran Rumah Tangga</td>\n",
       "      <td>7</td>\n",
       "    </tr>\n",
       "    <tr>\n",
       "      <th>24</th>\n",
       "      <td>2020</td>\n",
       "      <td>7</td>\n",
       "      <td>Kekerasan Fisik</td>\n",
       "      <td>25</td>\n",
       "    </tr>\n",
       "    <tr>\n",
       "      <th>25</th>\n",
       "      <td>2020</td>\n",
       "      <td>7</td>\n",
       "      <td>Kekerasan Psikis</td>\n",
       "      <td>29</td>\n",
       "    </tr>\n",
       "    <tr>\n",
       "      <th>26</th>\n",
       "      <td>2020</td>\n",
       "      <td>7</td>\n",
       "      <td>Kekerasan Seksual</td>\n",
       "      <td>4</td>\n",
       "    </tr>\n",
       "    <tr>\n",
       "      <th>27</th>\n",
       "      <td>2020</td>\n",
       "      <td>7</td>\n",
       "      <td>Penelantaran Rumah Tangga</td>\n",
       "      <td>10</td>\n",
       "    </tr>\n",
       "    <tr>\n",
       "      <th>28</th>\n",
       "      <td>2020</td>\n",
       "      <td>8</td>\n",
       "      <td>Kekerasan Fisik</td>\n",
       "      <td>29</td>\n",
       "    </tr>\n",
       "    <tr>\n",
       "      <th>29</th>\n",
       "      <td>2020</td>\n",
       "      <td>8</td>\n",
       "      <td>Kekerasan Psikis</td>\n",
       "      <td>30</td>\n",
       "    </tr>\n",
       "    <tr>\n",
       "      <th>30</th>\n",
       "      <td>2020</td>\n",
       "      <td>8</td>\n",
       "      <td>Kekerasan Seksual</td>\n",
       "      <td>2</td>\n",
       "    </tr>\n",
       "    <tr>\n",
       "      <th>31</th>\n",
       "      <td>2020</td>\n",
       "      <td>8</td>\n",
       "      <td>Penelantaran Rumah Tangga</td>\n",
       "      <td>9</td>\n",
       "    </tr>\n",
       "    <tr>\n",
       "      <th>32</th>\n",
       "      <td>2020</td>\n",
       "      <td>9</td>\n",
       "      <td>Kekerasan Fisik</td>\n",
       "      <td>24</td>\n",
       "    </tr>\n",
       "    <tr>\n",
       "      <th>33</th>\n",
       "      <td>2020</td>\n",
       "      <td>9</td>\n",
       "      <td>Kekerasan Psikis</td>\n",
       "      <td>31</td>\n",
       "    </tr>\n",
       "    <tr>\n",
       "      <th>34</th>\n",
       "      <td>2020</td>\n",
       "      <td>9</td>\n",
       "      <td>Kekerasan Seksual</td>\n",
       "      <td>2</td>\n",
       "    </tr>\n",
       "    <tr>\n",
       "      <th>35</th>\n",
       "      <td>2020</td>\n",
       "      <td>9</td>\n",
       "      <td>Penelantaran Rumah Tangga</td>\n",
       "      <td>11</td>\n",
       "    </tr>\n",
       "    <tr>\n",
       "      <th>36</th>\n",
       "      <td>2020</td>\n",
       "      <td>10</td>\n",
       "      <td>Kekerasan Fisik</td>\n",
       "      <td>17</td>\n",
       "    </tr>\n",
       "    <tr>\n",
       "      <th>37</th>\n",
       "      <td>2020</td>\n",
       "      <td>10</td>\n",
       "      <td>Kekerasan Psikis</td>\n",
       "      <td>19</td>\n",
       "    </tr>\n",
       "    <tr>\n",
       "      <th>38</th>\n",
       "      <td>2020</td>\n",
       "      <td>10</td>\n",
       "      <td>Kekerasan Seksual</td>\n",
       "      <td>4</td>\n",
       "    </tr>\n",
       "    <tr>\n",
       "      <th>39</th>\n",
       "      <td>2020</td>\n",
       "      <td>10</td>\n",
       "      <td>Penelantaran Rumah Tangga</td>\n",
       "      <td>2</td>\n",
       "    </tr>\n",
       "    <tr>\n",
       "      <th>40</th>\n",
       "      <td>2020</td>\n",
       "      <td>11</td>\n",
       "      <td>Kekerasan Fisik</td>\n",
       "      <td>28</td>\n",
       "    </tr>\n",
       "    <tr>\n",
       "      <th>41</th>\n",
       "      <td>2020</td>\n",
       "      <td>11</td>\n",
       "      <td>Kekerasan Psikis</td>\n",
       "      <td>29</td>\n",
       "    </tr>\n",
       "    <tr>\n",
       "      <th>42</th>\n",
       "      <td>2020</td>\n",
       "      <td>11</td>\n",
       "      <td>Kekerasan Seksual</td>\n",
       "      <td>4</td>\n",
       "    </tr>\n",
       "    <tr>\n",
       "      <th>43</th>\n",
       "      <td>2020</td>\n",
       "      <td>11</td>\n",
       "      <td>Penelantaran Rumah Tangga</td>\n",
       "      <td>4</td>\n",
       "    </tr>\n",
       "    <tr>\n",
       "      <th>44</th>\n",
       "      <td>2020</td>\n",
       "      <td>12</td>\n",
       "      <td>Kekerasan Fisik</td>\n",
       "      <td>23</td>\n",
       "    </tr>\n",
       "    <tr>\n",
       "      <th>45</th>\n",
       "      <td>2020</td>\n",
       "      <td>12</td>\n",
       "      <td>Kekerasan Psikis</td>\n",
       "      <td>22</td>\n",
       "    </tr>\n",
       "    <tr>\n",
       "      <th>46</th>\n",
       "      <td>2020</td>\n",
       "      <td>12</td>\n",
       "      <td>Kekerasan Seksual</td>\n",
       "      <td>10</td>\n",
       "    </tr>\n",
       "    <tr>\n",
       "      <th>47</th>\n",
       "      <td>2020</td>\n",
       "      <td>12</td>\n",
       "      <td>Penelantaran Rumah Tangga</td>\n",
       "      <td>4</td>\n",
       "    </tr>\n",
       "  </tbody>\n",
       "</table>\n",
       "</div>"
      ],
      "text/plain": [
       "    tahun  bulan           bentuk_kekerasan  jumlah_kekerasan\n",
       "0    2020      1            Kekerasan Fisik                36\n",
       "1    2020      1           Kekerasan Psikis                42\n",
       "2    2020      1          Kekerasan Seksual                40\n",
       "3    2020      1  Penelantaran Rumah Tangga                 3\n",
       "4    2020      2            Kekerasan Fisik                15\n",
       "5    2020      2           Kekerasan Psikis                26\n",
       "6    2020      2          Kekerasan Seksual                 1\n",
       "7    2020      2  Penelantaran Rumah Tangga                 8\n",
       "8    2020      3            Kekerasan Fisik                23\n",
       "9    2020      3           Kekerasan Psikis                20\n",
       "10   2020      3          Kekerasan Seksual                21\n",
       "11   2020      3  Penelantaran Rumah Tangga                 3\n",
       "12   2020      4            Kekerasan Fisik                12\n",
       "13   2020      4           Kekerasan Psikis                26\n",
       "14   2020      4          Kekerasan Seksual                11\n",
       "15   2020      4  Penelantaran Rumah Tangga                 1\n",
       "16   2020      5            Kekerasan Fisik                21\n",
       "17   2020      5           Kekerasan Psikis                18\n",
       "18   2020      5          Kekerasan Seksual                 8\n",
       "19   2020      5  Penelantaran Rumah Tangga                 2\n",
       "20   2020      6            Kekerasan Fisik                32\n",
       "21   2020      6           Kekerasan Psikis                36\n",
       "22   2020      6          Kekerasan Seksual                 8\n",
       "23   2020      6  Penelantaran Rumah Tangga                 7\n",
       "24   2020      7            Kekerasan Fisik                25\n",
       "25   2020      7           Kekerasan Psikis                29\n",
       "26   2020      7          Kekerasan Seksual                 4\n",
       "27   2020      7  Penelantaran Rumah Tangga                10\n",
       "28   2020      8            Kekerasan Fisik                29\n",
       "29   2020      8           Kekerasan Psikis                30\n",
       "30   2020      8          Kekerasan Seksual                 2\n",
       "31   2020      8  Penelantaran Rumah Tangga                 9\n",
       "32   2020      9            Kekerasan Fisik                24\n",
       "33   2020      9           Kekerasan Psikis                31\n",
       "34   2020      9          Kekerasan Seksual                 2\n",
       "35   2020      9  Penelantaran Rumah Tangga                11\n",
       "36   2020     10            Kekerasan Fisik                17\n",
       "37   2020     10           Kekerasan Psikis                19\n",
       "38   2020     10          Kekerasan Seksual                 4\n",
       "39   2020     10  Penelantaran Rumah Tangga                 2\n",
       "40   2020     11            Kekerasan Fisik                28\n",
       "41   2020     11           Kekerasan Psikis                29\n",
       "42   2020     11          Kekerasan Seksual                 4\n",
       "43   2020     11  Penelantaran Rumah Tangga                 4\n",
       "44   2020     12            Kekerasan Fisik                23\n",
       "45   2020     12           Kekerasan Psikis                22\n",
       "46   2020     12          Kekerasan Seksual                10\n",
       "47   2020     12  Penelantaran Rumah Tangga                 4"
      ]
     },
     "execution_count": 3,
     "metadata": {},
     "output_type": "execute_result"
    }
   ],
   "source": [
    "bentuk2020"
   ]
  },
  {
   "cell_type": "code",
   "execution_count": 4,
   "metadata": {
    "pycharm": {
     "name": "#%%\n"
    }
   },
   "outputs": [
    {
     "data": {
      "text/html": [
       "<div>\n",
       "<style scoped>\n",
       "    .dataframe tbody tr th:only-of-type {\n",
       "        vertical-align: middle;\n",
       "    }\n",
       "\n",
       "    .dataframe tbody tr th {\n",
       "        vertical-align: top;\n",
       "    }\n",
       "\n",
       "    .dataframe thead th {\n",
       "        text-align: right;\n",
       "    }\n",
       "</style>\n",
       "<table border=\"1\" class=\"dataframe\">\n",
       "  <thead>\n",
       "    <tr style=\"text-align: right;\">\n",
       "      <th></th>\n",
       "      <th>tahun</th>\n",
       "      <th>bulan</th>\n",
       "      <th>pelaku_kekerasan</th>\n",
       "      <th>jumlah_kekerasan</th>\n",
       "    </tr>\n",
       "  </thead>\n",
       "  <tbody>\n",
       "    <tr>\n",
       "      <th>0</th>\n",
       "      <td>2019</td>\n",
       "      <td>1</td>\n",
       "      <td>Orang Tua</td>\n",
       "      <td>7</td>\n",
       "    </tr>\n",
       "    <tr>\n",
       "      <th>1</th>\n",
       "      <td>2019</td>\n",
       "      <td>1</td>\n",
       "      <td>Keluarga</td>\n",
       "      <td>3</td>\n",
       "    </tr>\n",
       "    <tr>\n",
       "      <th>2</th>\n",
       "      <td>2019</td>\n",
       "      <td>1</td>\n",
       "      <td>Suami</td>\n",
       "      <td>13</td>\n",
       "    </tr>\n",
       "    <tr>\n",
       "      <th>3</th>\n",
       "      <td>2019</td>\n",
       "      <td>1</td>\n",
       "      <td>Lainnya</td>\n",
       "      <td>15</td>\n",
       "    </tr>\n",
       "    <tr>\n",
       "      <th>4</th>\n",
       "      <td>2019</td>\n",
       "      <td>1</td>\n",
       "      <td>Pacar</td>\n",
       "      <td>11</td>\n",
       "    </tr>\n",
       "    <tr>\n",
       "      <th>...</th>\n",
       "      <td>...</td>\n",
       "      <td>...</td>\n",
       "      <td>...</td>\n",
       "      <td>...</td>\n",
       "    </tr>\n",
       "    <tr>\n",
       "      <th>67</th>\n",
       "      <td>2019</td>\n",
       "      <td>12</td>\n",
       "      <td>Keluarga</td>\n",
       "      <td>4</td>\n",
       "    </tr>\n",
       "    <tr>\n",
       "      <th>68</th>\n",
       "      <td>2019</td>\n",
       "      <td>12</td>\n",
       "      <td>Suami</td>\n",
       "      <td>23</td>\n",
       "    </tr>\n",
       "    <tr>\n",
       "      <th>69</th>\n",
       "      <td>2019</td>\n",
       "      <td>12</td>\n",
       "      <td>Lainnya</td>\n",
       "      <td>15</td>\n",
       "    </tr>\n",
       "    <tr>\n",
       "      <th>70</th>\n",
       "      <td>2019</td>\n",
       "      <td>12</td>\n",
       "      <td>Pacar</td>\n",
       "      <td>2</td>\n",
       "    </tr>\n",
       "    <tr>\n",
       "      <th>71</th>\n",
       "      <td>2019</td>\n",
       "      <td>12</td>\n",
       "      <td>Tetangga</td>\n",
       "      <td>6</td>\n",
       "    </tr>\n",
       "  </tbody>\n",
       "</table>\n",
       "<p>72 rows × 4 columns</p>\n",
       "</div>"
      ],
      "text/plain": [
       "    tahun  bulan pelaku_kekerasan  jumlah_kekerasan\n",
       "0    2019      1        Orang Tua                 7\n",
       "1    2019      1         Keluarga                 3\n",
       "2    2019      1            Suami                13\n",
       "3    2019      1          Lainnya                15\n",
       "4    2019      1            Pacar                11\n",
       "..    ...    ...              ...               ...\n",
       "67   2019     12         Keluarga                 4\n",
       "68   2019     12            Suami                23\n",
       "69   2019     12          Lainnya                15\n",
       "70   2019     12            Pacar                 2\n",
       "71   2019     12         Tetangga                 6\n",
       "\n",
       "[72 rows x 4 columns]"
      ]
     },
     "execution_count": 4,
     "metadata": {},
     "output_type": "execute_result"
    }
   ],
   "source": [
    "pelaku2019"
   ]
  },
  {
   "cell_type": "code",
   "execution_count": 5,
   "metadata": {
    "pycharm": {
     "name": "#%%\n"
    }
   },
   "outputs": [
    {
     "data": {
      "text/html": [
       "<div>\n",
       "<style scoped>\n",
       "    .dataframe tbody tr th:only-of-type {\n",
       "        vertical-align: middle;\n",
       "    }\n",
       "\n",
       "    .dataframe tbody tr th {\n",
       "        vertical-align: top;\n",
       "    }\n",
       "\n",
       "    .dataframe thead th {\n",
       "        text-align: right;\n",
       "    }\n",
       "</style>\n",
       "<table border=\"1\" class=\"dataframe\">\n",
       "  <thead>\n",
       "    <tr style=\"text-align: right;\">\n",
       "      <th></th>\n",
       "      <th>tahun</th>\n",
       "      <th>bulan</th>\n",
       "      <th>pelaku_kekerasan</th>\n",
       "      <th>jumlah_kekerasan</th>\n",
       "    </tr>\n",
       "  </thead>\n",
       "  <tbody>\n",
       "    <tr>\n",
       "      <th>0</th>\n",
       "      <td>2020</td>\n",
       "      <td>1</td>\n",
       "      <td>Orang Tua</td>\n",
       "      <td>9</td>\n",
       "    </tr>\n",
       "    <tr>\n",
       "      <th>1</th>\n",
       "      <td>2020</td>\n",
       "      <td>1</td>\n",
       "      <td>Keluarga</td>\n",
       "      <td>8</td>\n",
       "    </tr>\n",
       "    <tr>\n",
       "      <th>2</th>\n",
       "      <td>2020</td>\n",
       "      <td>1</td>\n",
       "      <td>Suami</td>\n",
       "      <td>29</td>\n",
       "    </tr>\n",
       "    <tr>\n",
       "      <th>3</th>\n",
       "      <td>2020</td>\n",
       "      <td>1</td>\n",
       "      <td>Lainnya</td>\n",
       "      <td>36</td>\n",
       "    </tr>\n",
       "    <tr>\n",
       "      <th>4</th>\n",
       "      <td>2020</td>\n",
       "      <td>1</td>\n",
       "      <td>Pacar</td>\n",
       "      <td>9</td>\n",
       "    </tr>\n",
       "    <tr>\n",
       "      <th>...</th>\n",
       "      <td>...</td>\n",
       "      <td>...</td>\n",
       "      <td>...</td>\n",
       "      <td>...</td>\n",
       "    </tr>\n",
       "    <tr>\n",
       "      <th>67</th>\n",
       "      <td>2020</td>\n",
       "      <td>12</td>\n",
       "      <td>Keluarga</td>\n",
       "      <td>2</td>\n",
       "    </tr>\n",
       "    <tr>\n",
       "      <th>68</th>\n",
       "      <td>2020</td>\n",
       "      <td>12</td>\n",
       "      <td>Suami</td>\n",
       "      <td>13</td>\n",
       "    </tr>\n",
       "    <tr>\n",
       "      <th>69</th>\n",
       "      <td>2020</td>\n",
       "      <td>12</td>\n",
       "      <td>Lainnya</td>\n",
       "      <td>9</td>\n",
       "    </tr>\n",
       "    <tr>\n",
       "      <th>70</th>\n",
       "      <td>2020</td>\n",
       "      <td>12</td>\n",
       "      <td>Pacar</td>\n",
       "      <td>2</td>\n",
       "    </tr>\n",
       "    <tr>\n",
       "      <th>71</th>\n",
       "      <td>2020</td>\n",
       "      <td>12</td>\n",
       "      <td>Tetangga</td>\n",
       "      <td>1</td>\n",
       "    </tr>\n",
       "  </tbody>\n",
       "</table>\n",
       "<p>72 rows × 4 columns</p>\n",
       "</div>"
      ],
      "text/plain": [
       "    tahun  bulan pelaku_kekerasan  jumlah_kekerasan\n",
       "0    2020      1        Orang Tua                 9\n",
       "1    2020      1         Keluarga                 8\n",
       "2    2020      1            Suami                29\n",
       "3    2020      1          Lainnya                36\n",
       "4    2020      1            Pacar                 9\n",
       "..    ...    ...              ...               ...\n",
       "67   2020     12         Keluarga                 2\n",
       "68   2020     12            Suami                13\n",
       "69   2020     12          Lainnya                 9\n",
       "70   2020     12            Pacar                 2\n",
       "71   2020     12         Tetangga                 1\n",
       "\n",
       "[72 rows x 4 columns]"
      ]
     },
     "execution_count": 5,
     "metadata": {},
     "output_type": "execute_result"
    }
   ],
   "source": [
    "pelaku2020"
   ]
  },
  {
   "cell_type": "code",
   "execution_count": 6,
   "metadata": {
    "pycharm": {
     "name": "#%%\n"
    }
   },
   "outputs": [],
   "source": [
    "bentuk2019_group = bentuk2019.groupby('bulan',as_index=False)['jumlah_kekerasan'].sum()\n",
    "bentuk2020_group = bentuk2020.groupby('bulan',as_index=False)['jumlah_kekerasan'].sum()\n",
    "pelaku2019_group = pelaku2019.groupby('bulan',as_index=False)['jumlah_kekerasan'].sum()\n",
    "pelaku2020_group = pelaku2020.groupby('bulan',as_index=False)['jumlah_kekerasan'].sum()"
   ]
  },
  {
   "cell_type": "code",
   "execution_count": 7,
   "metadata": {
    "pycharm": {
     "name": "#%%\n"
    }
   },
   "outputs": [
    {
     "data": {
      "text/plain": [
       "<AxesSubplot:title={'center':'grafik berdasarkan bentuk kekerasan th. 2019'}, xlabel='bulan', ylabel='jumlah_kekerasan'>"
      ]
     },
     "execution_count": 7,
     "metadata": {},
     "output_type": "execute_result"
    },
    {
     "data": {
      "image/png": "[encoded data removed]",
      "text/plain": [
       "<Figure size 432x288 with 1 Axes>"
      ]
     },
     "metadata": {
      "needs_background": "light"
     },
     "output_type": "display_data"
    }
   ],
   "source": [
    "plt.title('grafik berdasarkan bentuk kekerasan th. 2019')\n",
    "sns.barplot(x='bulan', y='jumlah_kekerasan', data=bentuk2019_group, palette='summer')"
   ]
  },
  {
   "cell_type": "code",
   "execution_count": 8,
   "metadata": {
    "pycharm": {
     "name": "#%%\n"
    }
   },
   "outputs": [
    {
     "data": {
      "text/plain": [
       "<AxesSubplot:title={'center':'grafik berdasarkan bentuk kekerasan th. 2020'}, xlabel='bulan', ylabel='jumlah_kekerasan'>"
      ]
     },
     "execution_count": 8,
     "metadata": {},
     "output_type": "execute_result"
    },
    {
     "data": {
      "image/png": "[encoded data removed]",
      "text/plain": [
       "<Figure size 432x288 with 1 Axes>"
      ]
     },
     "metadata": {
      "needs_background": "light"
     },
     "output_type": "display_data"
    }
   ],
   "source": [
    "plt.title('grafik berdasarkan bentuk kekerasan th. 2020')\n",
    "sns.barplot(x='bulan', y='jumlah_kekerasan', data=bentuk2020_group, palette='summer')"
   ]
  },
  {
   "cell_type": "code",
   "execution_count": 9,
   "metadata": {
    "pycharm": {
     "name": "#%%\n"
    }
   },
   "outputs": [
    {
     "data": {
      "text/plain": [
       "<AxesSubplot:title={'center':'grafik berdasarkan pelaku kekerasan th. 2019'}, xlabel='bulan', ylabel='jumlah_kekerasan'>"
      ]
     },
     "execution_count": 9,
     "metadata": {},
     "output_type": "execute_result"
    },
    {
     "data": {
      "image/png": "[encoded data removed]",
      "text/plain": [
       "<Figure size 432x288 with 1 Axes>"
      ]
     },
     "metadata": {
      "needs_background": "light"
     },
     "output_type": "display_data"
    }
   ],
   "source": [
    "plt.title('grafik berdasarkan pelaku kekerasan th. 2019')\n",
    "sns.barplot(x='bulan', y='jumlah_kekerasan', data=pelaku2019_group, palette='summer')"
   ]
  },
  {
   "cell_type": "code",
   "execution_count": 10,
   "metadata": {
    "pycharm": {
     "name": "#%%\n"
    }
   },
   "outputs": [
    {
     "data": {
      "text/plain": [
       "<AxesSubplot:title={'center':'grafik berdasarkan pelaku kekerasan th. 2020'}, xlabel='bulan', ylabel='jumlah_kekerasan'>"
      ]
     },
     "execution_count": 10,
     "metadata": {},
     "output_type": "execute_result"
    },
    {
     "data": {
      "image/png": "[encoded data removed]",
      "text/plain": [
       "<Figure size 432x288 with 1 Axes>"
      ]
     },
     "metadata": {
      "needs_background": "light"
     },
     "output_type": "display_data"
    }
   ],
   "source": [
    "plt.title('grafik berdasarkan pelaku kekerasan th. 2020')\n",
    "sns.barplot(x='bulan', y='jumlah_kekerasan', data=pelaku2020_group, palette='summer')"
   ]
  },
  {
   "cell_type": "markdown",
   "metadata": {},
   "source": [
    "Mencari bulan tertinggi"
   ]
  },
  {
   "cell_type": "code",
   "execution_count": 11,
   "metadata": {
    "pycharm": {
     "name": "#%%\n"
    }
   },
   "outputs": [
    {
     "data": {
      "text/plain": [
       "202"
      ]
     },
     "execution_count": 11,
     "metadata": {},
     "output_type": "execute_result"
    }
   ],
   "source": [
    "bentuk2019_group['jumlah_kekerasan'].max()"
   ]
  },
  {
   "cell_type": "code",
   "execution_count": 12,
   "metadata": {
    "pycharm": {
     "name": "#%%\n"
    }
   },
   "outputs": [
    {
     "data": {
      "text/plain": [
       "121"
      ]
     },
     "execution_count": 12,
     "metadata": {},
     "output_type": "execute_result"
    }
   ],
   "source": [
    "bentuk2020_group['jumlah_kekerasan'].max()"
   ]
  },
  {
   "cell_type": "code",
   "execution_count": 13,
   "metadata": {
    "pycharm": {
     "name": "#%%\n"
    }
   },
   "outputs": [
    {
     "data": {
      "text/plain": [
       "145"
      ]
     },
     "execution_count": 13,
     "metadata": {},
     "output_type": "execute_result"
    }
   ],
   "source": [
    "pelaku2019_group['jumlah_kekerasan'].max()"
   ]
  },
  {
   "cell_type": "code",
   "execution_count": 14,
   "metadata": {
    "pycharm": {
     "name": "#%%\n"
    }
   },
   "outputs": [
    {
     "data": {
      "text/plain": [
       "123"
      ]
     },
     "execution_count": 14,
     "metadata": {},
     "output_type": "execute_result"
    }
   ],
   "source": [
    "pelaku2020_group['jumlah_kekerasan'].max()"
   ]
  },
  {
   "cell_type": "markdown",
   "metadata": {},
   "source": [
    "Cari selisih"
   ]
  },
  {
   "cell_type": "code",
   "execution_count": 15,
   "metadata": {
    "pycharm": {
     "name": "#%%\n"
    }
   },
   "outputs": [
    {
     "data": {
      "text/plain": [
       "81"
      ]
     },
     "execution_count": 15,
     "metadata": {},
     "output_type": "execute_result"
    }
   ],
   "source": [
    "bentuk2019_group['jumlah_kekerasan'].max() - bentuk2020_group['jumlah_kekerasan'].max()"
   ]
  },
  {
   "cell_type": "code",
   "execution_count": 16,
   "metadata": {
    "pycharm": {
     "name": "#%%\n"
    }
   },
   "outputs": [
    {
     "data": {
      "text/plain": [
       "22"
      ]
     },
     "execution_count": 16,
     "metadata": {},
     "output_type": "execute_result"
    }
   ],
   "source": [
    "pelaku2019_group['jumlah_kekerasan'].max() - pelaku2020_group['jumlah_kekerasan'].max()"
   ]
  },
  {
   "cell_type": "code",
   "execution_count": 4,
   "metadata": {
    "pycharm": {
     "name": "#%%\n"
    },
    "scrolled": true
   },
   "outputs": [
    {
     "ename": "NameError",
     "evalue": "name 'pd' is not defined",
     "output_type": "error",
     "traceback": [
      "\u001b[1;31m---------------------------------------------------------------------------\u001b[0m",
      "\u001b[1;31mNameError\u001b[0m                                 Traceback (most recent call last)",
      "\u001b[1;32m~\\AppData\\Local\\Temp/ipykernel_20508/4018185892.py\u001b[0m in \u001b[0;36m<module>\u001b[1;34m\u001b[0m\n\u001b[1;32m----> 1\u001b[1;33m \u001b[0mperbandingan_df\u001b[0m \u001b[1;33m=\u001b[0m \u001b[0mpd\u001b[0m\u001b[1;33m.\u001b[0m\u001b[0mDataFrame\u001b[0m\u001b[1;33m(\u001b[0m\u001b[1;33m{\u001b[0m\u001b[1;34m'jenis'\u001b[0m\u001b[1;33m:\u001b[0m\u001b[1;33m[\u001b[0m\u001b[1;34m'Selisih pelaku'\u001b[0m\u001b[1;33m,\u001b[0m\u001b[1;34m'Selisih bentuk'\u001b[0m\u001b[1;33m]\u001b[0m\u001b[1;33m,\u001b[0m \u001b[1;34m'jumlah'\u001b[0m\u001b[1;33m:\u001b[0m\u001b[1;33m[\u001b[0m\u001b[1;36m22\u001b[0m\u001b[1;33m,\u001b[0m\u001b[1;36m81\u001b[0m\u001b[1;33m]\u001b[0m\u001b[1;33m}\u001b[0m\u001b[1;33m)\u001b[0m\u001b[1;33m\u001b[0m\u001b[1;33m\u001b[0m\u001b[0m\n\u001b[0m",
      "\u001b[1;31mNameError\u001b[0m: name 'pd' is not defined"
     ]
    }
   ],
   "source": [
    "perbandingan_df = pd.DataFrame({'jenis':['Selisih pelaku','Selisih bentuk'], 'jumlah':[22,81]})"
   ]
  },
  {
   "cell_type": "code",
   "execution_count": 5,
   "metadata": {
    "pycharm": {
     "name": "#%%\n"
    }
   },
   "outputs": [
    {
     "ename": "NameError",
     "evalue": "name 'perbandingan_df' is not defined",
     "output_type": "error",
     "traceback": [
      "\u001b[1;31m---------------------------------------------------------------------------\u001b[0m",
      "\u001b[1;31mNameError\u001b[0m                                 Traceback (most recent call last)",
      "\u001b[1;32m~\\AppData\\Local\\Temp/ipykernel_20508/3458583472.py\u001b[0m in \u001b[0;36m<module>\u001b[1;34m\u001b[0m\n\u001b[1;32m----> 1\u001b[1;33m \u001b[0mperbandingan_df\u001b[0m\u001b[1;33m\u001b[0m\u001b[1;33m\u001b[0m\u001b[0m\n\u001b[0m",
      "\u001b[1;31mNameError\u001b[0m: name 'perbandingan_df' is not defined"
     ]
    }
   ],
   "source": [
    "perbandingan_df"
   ]
  },
  {
   "cell_type": "code",
   "execution_count": 19,
   "metadata": {
    "pycharm": {
     "name": "#%%\n"
    }
   },
   "outputs": [
    {
     "data": {
      "text/plain": [
       "<AxesSubplot:title={'center':'grafik perbandingan selisih kekerasan 2019-2020'}, xlabel='jenis', ylabel='jumlah'>"
      ]
     },
     "execution_count": 19,
     "metadata": {},
     "output_type": "execute_result"
    },
    {
     "data": {
      "image/png": "[encoded data removed]",
      "text/plain": [
       "<Figure size 432x288 with 1 Axes>"
      ]
     },
     "metadata": {
      "needs_background": "light"
     },
     "output_type": "display_data"
    }
   ],
   "source": [
    "plt.title('grafik perbandingan selisih kekerasan 2019-2020')\n",
    "sns.barplot(x='jenis', y='jumlah', data=perbandingan_df, palette='summer')"
   ]
  },
  {
   "cell_type": "markdown",
   "metadata": {},
   "source": []
  }
 ],
 "metadata": {
  "kernelspec": {
   "display_name": "Python 3 (ipykernel)",
   "language": "python",
   "name": "python3"
  },
  "language_info": {
   "codemirror_mode": {
    "name": "ipython",
    "version": 3
   },
   "file_extension": ".py",
   "mimetype": "text/x-python",
   "name": "python",
   "nbconvert_exporter": "python",
   "pygments_lexer": "ipython3",
   "version": "3.10.1"
  }
 },
 "nbformat": 4,
 "nbformat_minor": 1
}
